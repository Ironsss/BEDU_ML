{
 "cells": [
  {
   "cell_type": "markdown",
   "metadata": {},
   "source": [
    "# Sesión 03: Algorítmos no supervisados"
   ]
  },
  {
   "cell_type": "markdown",
   "metadata": {},
   "source": [
    "## Reto 01: Construir funciones para nuestra librería de utilidades"
   ]
  },
  {
   "cell_type": "markdown",
   "metadata": {},
   "source": [
    "PASO 1: Construye una función que calcula la distancia euclídea entre dos conjuntos de observaciones:"
   ]
  },
  {
   "cell_type": "code",
   "execution_count": 1,
   "metadata": {},
   "outputs": [],
   "source": [
    "import numpy as np\n",
    "\n",
    "def distEuclidiana(muestra, dataset):\n",
    "    distancias = np.zeros((dataset.shape[0],1))\n",
    "    #print(dataset.shape[0])\n",
    "    #print('------')\n",
    "    #print(distancias)\n",
    "    #print('------')\n",
    "    for counter in range(0,dataset.shape[0]):\n",
    "        distancias[counter] = np.linalg.norm(muestra-dataset[counter]) ## Busca una función de numpy para calcular la norma\n",
    "    return distancias"
   ]
  },
  {
   "cell_type": "code",
   "execution_count": 2,
   "metadata": {},
   "outputs": [
    {
     "name": "stdout",
     "output_type": "stream",
     "text": [
      "[[0.]\n",
      " [2.]\n",
      " [4.]]\n"
     ]
    }
   ],
   "source": [
    "#Prueba de distancia euclidiana:\n",
    "muestra = np.array([1,2,3,4]) # Prueba la función con varios puntos\n",
    "dataset = np.array([[1,2,3,4],\n",
    "                    [2,3,4,5],\n",
    "                    [3,4,5,6]])\n",
    "distancias = distEuclidiana(muestra, dataset)\n",
    "print(distancias)"
   ]
  },
  {
   "cell_type": "markdown",
   "metadata": {},
   "source": [
    "PASO 2: Definir una función que determine el centroide más cercano a un punto muestral"
   ]
  },
  {
   "cell_type": "code",
   "execution_count": 3,
   "metadata": {},
   "outputs": [],
   "source": [
    "def centroideCercano(muestra, listaCentroides):\n",
    "    listaDistancias = distEuclidiana(muestra, listaCentroides)\n",
    "    centroideCercano = np.argmin(listaDistancias) ## Busca una función de Numpy para encontrar el argumento mínimo de un array\n",
    "    return centroideCercano"
   ]
  },
  {
   "cell_type": "code",
   "execution_count": 4,
   "metadata": {},
   "outputs": [
    {
     "name": "stdout",
     "output_type": "stream",
     "text": [
      "El centroide más cercano es el ubicado en el índice: 0\n"
     ]
    }
   ],
   "source": [
    "#Prueba de centroide mas cercano:\n",
    "muestra = np.array([1,2,3,4])\n",
    "centroides = np.array([[1,2,3,4],\n",
    "                    [2,3,4,5],\n",
    "                    [3,4,5,6]])\n",
    "resultado = centroideCercano(muestra, centroides)\n",
    "print(\"El centroide más cercano es el ubicado en el índice: \"+str(resultado))"
   ]
  },
  {
   "cell_type": "markdown",
   "metadata": {},
   "source": [
    "PASO 3: Define una función que clasifique todas las muestras con base en el centroide más cercano"
   ]
  },
  {
   "cell_type": "code",
   "execution_count": 5,
   "metadata": {},
   "outputs": [],
   "source": [
    "def clasificarPorCentroides(muestras, centroides):\n",
    "    resultado = np.zeros((muestras.shape[0],1))\n",
    "    for counter in range(0, muestras.shape[0]):\n",
    "        resultado[counter] = centroideCercano(muestras[counter], centroides)\n",
    "    return resultado"
   ]
  },
  {
   "cell_type": "code",
   "execution_count": 6,
   "metadata": {},
   "outputs": [
    {
     "name": "stdout",
     "output_type": "stream",
     "text": [
      "[[0.]\n",
      " [1.]\n",
      " [2.]]\n"
     ]
    }
   ],
   "source": [
    "#Prueba de todos los centroides vs todas las muestras.\n",
    "muestras = np.array([[1,2,3,4],\n",
    "                    [2,3,4,5],\n",
    "                    [3,4,5,6]])\n",
    "\n",
    "centroides = np.array([[1,2,3,4],\n",
    "                    [2,3,4,5],\n",
    "                    [3,4,5,6]])\n",
    "\n",
    "resultados = clasificarPorCentroides(muestras,centroides)\n",
    "print(resultados)"
   ]
  },
  {
   "cell_type": "markdown",
   "metadata": {},
   "source": [
    "## Ejemplo 01: Entrenamiento de K-Means"
   ]
  },
  {
   "cell_type": "markdown",
   "metadata": {},
   "source": [
    "Este ejemplo simple muestra como es que se puede hacer la división entre entrenamiento / prueba y como se entrena por medio de k-means usando la librería de Sklearn"
   ]
  },
  {
   "cell_type": "code",
   "execution_count": 7,
   "metadata": {},
   "outputs": [],
   "source": [
    "import MLUtilities as mlu"
   ]
  },
  {
   "cell_type": "code",
   "execution_count": 8,
   "metadata": {},
   "outputs": [],
   "source": [
    "from sklearn.datasets import make_blobs\n",
    "import matplotlib.pyplot as plt"
   ]
  },
  {
   "cell_type": "code",
   "execution_count": 9,
   "metadata": {},
   "outputs": [
    {
     "data": {
      "image/png": "[encoded data removed]",
      "text/plain": [
       "<Figure size 432x288 with 1 Axes>"
      ]
     },
     "metadata": {
      "needs_background": "light"
     },
     "output_type": "display_data"
    }
   ],
   "source": [
    "x, y = make_blobs(n_samples=1000, centers=4, n_features=2)\n",
    "mlu.plt.scatter(x[:,0], x[:,1], c=y)\n",
    "mlu.plt.show()"
   ]
  },
  {
   "cell_type": "markdown",
   "metadata": {},
   "source": [
    "Utilizaremos la función KMeans de Sklearn para aplicar la técnica no supervisada:"
   ]
  },
  {
   "cell_type": "code",
   "execution_count": 10,
   "metadata": {},
   "outputs": [],
   "source": [
    "from sklearn.cluster import KMeans"
   ]
  },
  {
   "cell_type": "markdown",
   "metadata": {},
   "source": [
    "Tomamos el dataset de entrenamiento y ajustamos los centroides. K es el número de clases que queremos, por ejemplo: n_clusters = 4 es para 4 clases"
   ]
  },
  {
   "cell_type": "code",
   "execution_count": 11,
   "metadata": {},
   "outputs": [],
   "source": [
    "#Dividimos entre train y test.\n",
    "x_train, x_test, y_train, y_test = mlu.train_test_split(x,y,test_size=0.4)"
   ]
  },
  {
   "cell_type": "code",
   "execution_count": 12,
   "metadata": {},
   "outputs": [
    {
     "name": "stdout",
     "output_type": "stream",
     "text": [
      "[[-3.99292163 -5.39566016]\n",
      " [-2.13441645  5.49536139]\n",
      " [ 7.90169808 -6.91034461]\n",
      " [-7.91410231  0.47312618]]\n"
     ]
    },
    {
     "data": {
      "image/png": "[encoded data removed]",
      "text/plain": [
       "<Figure size 432x288 with 1 Axes>"
      ]
     },
     "metadata": {
      "needs_background": "light"
     },
     "output_type": "display_data"
    }
   ],
   "source": [
    "# Definimos el número de centroides a determinar\n",
    "K = 4\n",
    "\n",
    "#Entrenamos con x_train...\n",
    "modelo_kmeans = KMeans(n_clusters = K).fit(x_train)\n",
    "\n",
    "#Y extraemos los centroides.\n",
    "centroides = modelo_kmeans.cluster_centers_\n",
    "print(centroides)\n",
    "\n",
    "mlu.plt.scatter(x[:,0], x[:,1], c=y)\n",
    "mlu.plt.scatter(centroides[:,0],centroides[:,1],color='red')\n",
    "mlu.plt.show()"
   ]
  },
  {
   "cell_type": "markdown",
   "metadata": {},
   "source": [
    "$accuracy = \\frac{num\\ muestras - num\\ errores}{num\\ muestras} \\times 100$"
   ]
  },
  {
   "cell_type": "markdown",
   "metadata": {},
   "source": [
    "## Reto 02: Clasificación y desempeño"
   ]
  },
  {
   "cell_type": "code",
   "execution_count": 13,
   "metadata": {},
   "outputs": [],
   "source": [
    "import MLUtilities as mlu\n",
    "from sklearn.datasets.samples_generator import make_blobs"
   ]
  },
  {
   "cell_type": "code",
   "execution_count": 14,
   "metadata": {},
   "outputs": [],
   "source": [
    "?np.where"
   ]
  },
  {
   "cell_type": "markdown",
   "metadata": {},
   "source": [
    "Definir una función que filtre los datos con base en la categoría esperada a la que pertenecen"
   ]
  },
  {
   "cell_type": "code",
   "execution_count": 41,
   "metadata": {},
   "outputs": [],
   "source": [
    "def separarDatos(muestras, valoresEsperados, valorAFiltrar):\n",
    "    indices = np.where(valoresEsperados == valorAFiltrar)\n",
    "    return muestras[indices], valoresEsperados[indices]"
   ]
  },
  {
   "cell_type": "code",
   "execution_count": 42,
   "metadata": {},
   "outputs": [
    {
     "data": {
      "image/png": "[encoded data removed]",
      "text/plain": [
       "<Figure size 432x288 with 1 Axes>"
      ]
     },
     "metadata": {
      "needs_background": "light"
     },
     "output_type": "display_data"
    }
   ],
   "source": [
    "# Prueba de la función\n",
    "x, y = make_blobs(n_samples=1000, centers=3, n_features=2)\n",
    "mlu.plt.scatter(x[:,0], x[:,1], c=y)\n",
    "mlu.plt.show()"
   ]
  },
  {
   "cell_type": "code",
   "execution_count": 43,
   "metadata": {},
   "outputs": [
    {
     "name": "stdout",
     "output_type": "stream",
     "text": [
      "[[-7.75947422 -1.44518992]\n",
      " [ 8.44501206 -2.59195497]\n",
      " [ 3.04437747  1.52902988]\n",
      " ...\n",
      " [ 9.38912772 -5.38132132]\n",
      " [ 3.24534382  0.3568216 ]\n",
      " [-8.144031   -1.49784961]]\n"
     ]
    }
   ],
   "source": [
    "print(x)"
   ]
  },
  {
   "cell_type": "markdown",
   "metadata": {},
   "source": [
    "La siguiente función calcula la moda de un conjunto de datos y nos será útil para calcular el accuracy de nuestra clasificación"
   ]
  },
  {
   "cell_type": "code",
   "execution_count": 44,
   "metadata": {},
   "outputs": [
    {
     "name": "stdout",
     "output_type": "stream",
     "text": [
      "[0 0 0 0 0 0 0 0 0 0 0 0 0 0 0 0 0 0 0 0 0 0 0 0 0 0 0 0 0 0 0 0 0 0 0 0 0\n",
      " 0 0 0 0 0 0 0 0 0 0 0 0 0 0 0 0 0 0 0 0 0 0 0 0 0 0 0 0 0 0 0 0 0 0 0 0 0\n",
      " 0 0 0 0 0 0 0 0 0 0 0 0 0 0 0 0 0 0 0 0 0 0 0 0 0 0 0 0 0 0 0 0 0 0 0 0 0\n",
      " 0 0 0 0 0 0 0 0 0 0 0 0 0 0 0 0 0 0 0 0 0 0 0 0 0 0 0 0 0 0 0 0 0 0 0 0 0\n",
      " 0 0 0 0 0 0 0 0 0 0 0 0 0 0 0 0 0 0 0 0 0 0 0 0 0 0 0 0 0 0 0 0 0 0 0 0 0\n",
      " 0 0 0 0 0 0 0 0 0 0 0 0 0 0 0 0 0 0 0 0 0 0 0 0 0 0 0 0 0 0 0 0 0 0 0 0 0\n",
      " 0 0 0 0 0 0 0 0 0 0 0 0 0 0 0 0 0 0 0 0 0 0 0 0 0 0 0 0 0 0 0 0 0 0 0 0 0\n",
      " 0 0 0 0 0 0 0 0 0 0 0 0 0 0 0 0 0 0 0 0 0 0 0 0 0 0 0 0 0 0 0 0 0 0 0 0 0\n",
      " 0 0 0 0 0 0 0 0 0 0 0 0 0 0 0 0 0 0 0 0 0 0 0 0 0 0 0 0 0 0 0 0 0 0 0 0 0\n",
      " 0]\n"
     ]
    }
   ],
   "source": [
    "muestrasCon1, valoresEsperadosCon1 = separarDatos(x,y,0) # Cambia el argumento \"valorAFiltrar\"\n",
    "print(valoresEsperadosCon1)"
   ]
  },
  {
   "cell_type": "code",
   "execution_count": 45,
   "metadata": {},
   "outputs": [],
   "source": [
    "from scipy import stats\n",
    "\n",
    "def obtenerModa(resultados):\n",
    "    moda = (stats.mode(resultados)[0]).reshape(-1) ## Identifica la función que obteien la moda\n",
    "    return moda[0]"
   ]
  },
  {
   "cell_type": "markdown",
   "metadata": {},
   "source": [
    "Código para obtener la accuracy de una muestra con K medias\n",
    "Este código primero extrae el numero de muestras, luego los resultados de clasificación, luego la moda y busca con np.where donde los resultados son diferentes a la moda, esos son los indices de errores.\n",
    "\n",
    "Luego entonces, la cantidad de errores es el tamaño de los resultados donde los indicesErrores apuntan. finalmente, la Accuracy la calculamos como:\n",
    "\n",
    "$accuracy = \\frac{numMuestras - cantidadErrores}{numMuestras} \\times 100 $"
   ]
  },
  {
   "cell_type": "code",
   "execution_count": 46,
   "metadata": {},
   "outputs": [],
   "source": [
    "def obtenerAccuracy_kmedias(muestras, centroides):\n",
    "    numMuestras = muestras.shape[0]\n",
    "    \n",
    "    resultados = clasificarPorCentroides(muestras, centroides)\n",
    "    moda = obtenerModa(resultados)\n",
    "    \n",
    "    indicesErrores = np.where(resultados != moda)\n",
    "    cantidadErrores = len(resultados[indicesErrores])\n",
    "    accuracy = ((numMuestras-cantidadErrores)/numMuestras)*100\n",
    "    return accuracy"
   ]
  },
  {
   "cell_type": "markdown",
   "metadata": {},
   "source": [
    "Vamos a probar la función anterior. Para ello, observa el scatter plot de arriba, y elige los centroides manualmente con \"centroidesDummy\". si pones el centroide dummy 1 y 2 muy cerca, la accuracy va a bajar considerablemente. si pones el centroide dummy 1 en medio de una clase, y el centroide 2 muy lejos, la accuracy será de 100%"
   ]
  },
  {
   "cell_type": "code",
   "execution_count": 47,
   "metadata": {},
   "outputs": [
    {
     "name": "stdout",
     "output_type": "stream",
     "text": [
      "66.4\n"
     ]
    }
   ],
   "source": [
    "centroidesDummy = np.array([[4,9]       #Centroide dummy 1\n",
    "                            ,[-0.5,-10]])   #Centroide dummy 2\n",
    "accuracy = obtenerAccuracy_kmedias(x,centroidesDummy)\n",
    "print(accuracy)"
   ]
  },
  {
   "cell_type": "markdown",
   "metadata": {},
   "source": [
    "## Ejemplo 2: Sistemas de recomendación"
   ]
  },
  {
   "cell_type": "markdown",
   "metadata": {},
   "source": [
    "Este es un sistema de recomendación: los sistemas de recomendación estan en todos lados (netflix, amazon, etc), y vamos a crear uno basado en K-medias. Para ello, vamos empezando por cargar un dataset de películas en formato CSV."
   ]
  },
  {
   "cell_type": "code",
   "execution_count": 48,
   "metadata": {},
   "outputs": [],
   "source": [
    "import numpy as np\n",
    "import pandas as pd\n",
    "from matplotlib import pyplot as plt\n",
    "from sklearn.datasets.samples_generator import make_blobs\n",
    "from sklearn.model_selection import train_test_split\n",
    "from sklearn.cluster import KMeans"
   ]
  },
  {
   "cell_type": "code",
   "execution_count": 49,
   "metadata": {},
   "outputs": [
    {
     "data": {
      "text/html": [
       "<div>\n",
       "<style scoped>\n",
       "    .dataframe tbody tr th:only-of-type {\n",
       "        vertical-align: middle;\n",
       "    }\n",
       "\n",
       "    .dataframe tbody tr th {\n",
       "        vertical-align: top;\n",
       "    }\n",
       "\n",
       "    .dataframe thead th {\n",
       "        text-align: right;\n",
       "    }\n",
       "</style>\n",
       "<table border=\"1\" class=\"dataframe\">\n",
       "  <thead>\n",
       "    <tr style=\"text-align: right;\">\n",
       "      <th></th>\n",
       "      <th>Nombre</th>\n",
       "      <th>cantidad de accion</th>\n",
       "      <th>cantidad de romance</th>\n",
       "      <th>tipo</th>\n",
       "    </tr>\n",
       "  </thead>\n",
       "  <tbody>\n",
       "    <tr>\n",
       "      <td>0</td>\n",
       "      <td>Robocop</td>\n",
       "      <td>0.90</td>\n",
       "      <td>0.00</td>\n",
       "      <td>accion</td>\n",
       "    </tr>\n",
       "    <tr>\n",
       "      <td>1</td>\n",
       "      <td>Terminator</td>\n",
       "      <td>0.88</td>\n",
       "      <td>0.10</td>\n",
       "      <td>accion</td>\n",
       "    </tr>\n",
       "    <tr>\n",
       "      <td>2</td>\n",
       "      <td>Dia de la independencia</td>\n",
       "      <td>0.90</td>\n",
       "      <td>0.11</td>\n",
       "      <td>accion</td>\n",
       "    </tr>\n",
       "    <tr>\n",
       "      <td>3</td>\n",
       "      <td>Mision Imposible</td>\n",
       "      <td>0.90</td>\n",
       "      <td>0.11</td>\n",
       "      <td>accion</td>\n",
       "    </tr>\n",
       "    <tr>\n",
       "      <td>4</td>\n",
       "      <td>Bourne</td>\n",
       "      <td>0.90</td>\n",
       "      <td>0.20</td>\n",
       "      <td>accion</td>\n",
       "    </tr>\n",
       "    <tr>\n",
       "      <td>5</td>\n",
       "      <td>Rambo</td>\n",
       "      <td>1.00</td>\n",
       "      <td>0.00</td>\n",
       "      <td>accion</td>\n",
       "    </tr>\n",
       "    <tr>\n",
       "      <td>6</td>\n",
       "      <td>Rocky</td>\n",
       "      <td>0.95</td>\n",
       "      <td>0.40</td>\n",
       "      <td>accion</td>\n",
       "    </tr>\n",
       "    <tr>\n",
       "      <td>7</td>\n",
       "      <td>Leopold y Kate</td>\n",
       "      <td>0.10</td>\n",
       "      <td>1.00</td>\n",
       "      <td>romance</td>\n",
       "    </tr>\n",
       "    <tr>\n",
       "      <td>8</td>\n",
       "      <td>Diario de una pasión</td>\n",
       "      <td>0.10</td>\n",
       "      <td>0.90</td>\n",
       "      <td>romance</td>\n",
       "    </tr>\n",
       "    <tr>\n",
       "      <td>9</td>\n",
       "      <td>Operación Dragon</td>\n",
       "      <td>0.75</td>\n",
       "      <td>0.00</td>\n",
       "      <td>accion</td>\n",
       "    </tr>\n",
       "    <tr>\n",
       "      <td>10</td>\n",
       "      <td>Tiempos Violentos</td>\n",
       "      <td>0.95</td>\n",
       "      <td>0.10</td>\n",
       "      <td>accion</td>\n",
       "    </tr>\n",
       "    <tr>\n",
       "      <td>11</td>\n",
       "      <td>Django</td>\n",
       "      <td>0.90</td>\n",
       "      <td>0.30</td>\n",
       "      <td>accion</td>\n",
       "    </tr>\n",
       "    <tr>\n",
       "      <td>12</td>\n",
       "      <td>La boda de mi mejor amigo</td>\n",
       "      <td>0.10</td>\n",
       "      <td>0.85</td>\n",
       "      <td>romance</td>\n",
       "    </tr>\n",
       "    <tr>\n",
       "      <td>13</td>\n",
       "      <td>Mujer bonita</td>\n",
       "      <td>0.00</td>\n",
       "      <td>0.99</td>\n",
       "      <td>romance</td>\n",
       "    </tr>\n",
       "    <tr>\n",
       "      <td>14</td>\n",
       "      <td>Bastardos sin gloria</td>\n",
       "      <td>0.95</td>\n",
       "      <td>0.15</td>\n",
       "      <td>accion</td>\n",
       "    </tr>\n",
       "    <tr>\n",
       "      <td>15</td>\n",
       "      <td>Sherlock Holmes</td>\n",
       "      <td>0.90</td>\n",
       "      <td>0.20</td>\n",
       "      <td>accion</td>\n",
       "    </tr>\n",
       "    <tr>\n",
       "      <td>16</td>\n",
       "      <td>James bond</td>\n",
       "      <td>0.85</td>\n",
       "      <td>0.20</td>\n",
       "      <td>accion</td>\n",
       "    </tr>\n",
       "    <tr>\n",
       "      <td>17</td>\n",
       "      <td>El último samurai</td>\n",
       "      <td>0.85</td>\n",
       "      <td>0.20</td>\n",
       "      <td>accion</td>\n",
       "    </tr>\n",
       "    <tr>\n",
       "      <td>18</td>\n",
       "      <td>Orgullo y prejuicio</td>\n",
       "      <td>0.10</td>\n",
       "      <td>0.85</td>\n",
       "      <td>romance</td>\n",
       "    </tr>\n",
       "    <tr>\n",
       "      <td>19</td>\n",
       "      <td>Cásese quien pueda</td>\n",
       "      <td>0.10</td>\n",
       "      <td>0.90</td>\n",
       "      <td>romance</td>\n",
       "    </tr>\n",
       "    <tr>\n",
       "      <td>20</td>\n",
       "      <td>Nothing Hill</td>\n",
       "      <td>0.10</td>\n",
       "      <td>0.90</td>\n",
       "      <td>romance</td>\n",
       "    </tr>\n",
       "    <tr>\n",
       "      <td>21</td>\n",
       "      <td>Media noche en paris</td>\n",
       "      <td>0.40</td>\n",
       "      <td>0.95</td>\n",
       "      <td>romance</td>\n",
       "    </tr>\n",
       "  </tbody>\n",
       "</table>\n",
       "</div>"
      ],
      "text/plain": [
       "                       Nombre  cantidad de accion  cantidad de romance  \\\n",
       "0                     Robocop                0.90                 0.00   \n",
       "1                  Terminator                0.88                 0.10   \n",
       "2     Dia de la independencia                0.90                 0.11   \n",
       "3            Mision Imposible                0.90                 0.11   \n",
       "4                      Bourne                0.90                 0.20   \n",
       "5                       Rambo                1.00                 0.00   \n",
       "6                       Rocky                0.95                 0.40   \n",
       "7              Leopold y Kate                0.10                 1.00   \n",
       "8        Diario de una pasión                0.10                 0.90   \n",
       "9            Operación Dragon                0.75                 0.00   \n",
       "10          Tiempos Violentos                0.95                 0.10   \n",
       "11                     Django                0.90                 0.30   \n",
       "12  La boda de mi mejor amigo                0.10                 0.85   \n",
       "13               Mujer bonita                0.00                 0.99   \n",
       "14       Bastardos sin gloria                0.95                 0.15   \n",
       "15            Sherlock Holmes                0.90                 0.20   \n",
       "16                 James bond                0.85                 0.20   \n",
       "17          El último samurai                0.85                 0.20   \n",
       "18        Orgullo y prejuicio                0.10                 0.85   \n",
       "19         Cásese quien pueda                0.10                 0.90   \n",
       "20               Nothing Hill                0.10                 0.90   \n",
       "21       Media noche en paris                0.40                 0.95   \n",
       "\n",
       "       tipo  \n",
       "0    accion  \n",
       "1    accion  \n",
       "2    accion  \n",
       "3    accion  \n",
       "4    accion  \n",
       "5    accion  \n",
       "6    accion  \n",
       "7   romance  \n",
       "8   romance  \n",
       "9    accion  \n",
       "10   accion  \n",
       "11   accion  \n",
       "12  romance  \n",
       "13  romance  \n",
       "14   accion  \n",
       "15   accion  \n",
       "16   accion  \n",
       "17   accion  \n",
       "18  romance  \n",
       "19  romance  \n",
       "20  romance  \n",
       "21  romance  "
      ]
     },
     "execution_count": 49,
     "metadata": {},
     "output_type": "execute_result"
    }
   ],
   "source": [
    "df_peliculas = pd.read_csv('dataset_peliculas.csv')\n",
    "df_peliculas"
   ]
  },
  {
   "cell_type": "markdown",
   "metadata": {},
   "source": [
    "### Transformando en datasets de entrenamiento y prueba.\n",
    "\n",
    "Ahora, vamos a tomar las columnas \"cantidad de accion\" y \"cantidad de romance\", y vamos a transformarlas en nuestras variables a clasificar por K-medias. Como aqui tengo acción y romance, hay que mappear \"accion\" a 0, y \"romance\" a 1, para hacer un dataset de entrenamiento y prueba."
   ]
  },
  {
   "cell_type": "code",
   "execution_count": 50,
   "metadata": {},
   "outputs": [],
   "source": [
    "x = df_peliculas[['cantidad de accion', 'cantidad de romance']].to_numpy()\n",
    "y = df_peliculas['tipo'].map({\n",
    "    'accion':0,\n",
    "    'romance':1\n",
    "}).to_numpy()\n",
    "# Otra alternativa: y = df_peliculas[\"tipo\"].get_dummies()\n",
    "\n",
    "# x_train, x_test, y_train, y_test = train_test_split(x,y,test_size=0.4)"
   ]
  },
  {
   "cell_type": "markdown",
   "metadata": {},
   "source": [
    "### Centroides.\n",
    "Una vez mappeado, vamos a entrenar el algoritmo de K-medias de forma automática, y extraigamos los centroides obtenidos."
   ]
  },
  {
   "cell_type": "code",
   "execution_count": 51,
   "metadata": {},
   "outputs": [
    {
     "name": "stdout",
     "output_type": "stream",
     "text": [
      "[[0.125      0.9175    ]\n",
      " [0.89857143 0.14785714]]\n"
     ]
    }
   ],
   "source": [
    "modelo_kmeans = KMeans(n_clusters = 2).fit(x)\n",
    "centroides = modelo_kmeans.cluster_centers_\n",
    "print(centroides)"
   ]
  },
  {
   "cell_type": "markdown",
   "metadata": {},
   "source": [
    "### Sistema de recomendación.\n",
    "Muy bien! ya tenemos los datos, centroides, y estamos listos para crear un sistema que nos recomiende películas. Para ello usaremos la librería MLUtilites que hemos estado construyendo en esta sesión."
   ]
  },
  {
   "cell_type": "code",
   "execution_count": 52,
   "metadata": {},
   "outputs": [],
   "source": [
    "import MLUtilities as mlu\n",
    "import numpy as np"
   ]
  },
  {
   "cell_type": "markdown",
   "metadata": {},
   "source": [
    "Esta función va a recibir la lista de todas las peliculas (solo el texto), los datos de todas las películas (igual que como sacamos X), la pelicula ejemplo (Los valores de cantidad de acción y cantidad de romance), y los centroides de Kmeans."
   ]
  },
  {
   "cell_type": "code",
   "execution_count": 53,
   "metadata": {},
   "outputs": [],
   "source": [
    "def recomiendamePeliculas(listaDePeliculas,datosPeliculas,peliculaEjemplo,centroides):\n",
    "    #Vamos a buscar el centroide mas cercano (con MLUtilities ;) )\n",
    "    clasificacionDeseada = centroideCercano(peliculaEjemplo, centroides)\n",
    "    \n",
    "    #Luego, vamos a clasificar todas las peliculas por centroides.\n",
    "    clasificaciones = clasificarPorCentroides(datosPeliculas, centroides)\n",
    "    \n",
    "    #Finalmente, sacaremos los indices que hacen match entre clasificaciones.\n",
    "    indices = np.where(clasificaciones == clasificacionDeseada)[0]\n",
    "    \n",
    "    #Y regresamos la lista de peliculas.\n",
    "    return listaDePeliculas[indices]"
   ]
  },
  {
   "cell_type": "markdown",
   "metadata": {},
   "source": [
    "### Recomiendame una película!\n",
    "Elige un índice del dataframe (por decir algo... 5), y extrae la película que elegiste. Luego extrae sus características, y pide las recomendaciones!"
   ]
  },
  {
   "cell_type": "code",
   "execution_count": 54,
   "metadata": {},
   "outputs": [
    {
     "name": "stdout",
     "output_type": "stream",
     "text": [
      "Porque viste Sherlock Holmes te recomendamos ...\n",
      "0                    Robocop\n",
      "1                 Terminator\n",
      "2    Dia de la independencia\n",
      "3           Mision Imposible\n",
      "4                     Bourne\n",
      "Name: Nombre, dtype: object\n"
     ]
    }
   ],
   "source": [
    "#Sientete libre de cambiar este valor.\n",
    "indice_df = 15\n",
    "\n",
    "#Extrae la película que deseas del dataframe.\n",
    "peliculaElegida = df_peliculas.iloc[indice_df]\n",
    "\n",
    "#Obten las características de la pelicula que elegiste.\n",
    "caracteristicaPelicula = peliculaElegida[['cantidad de accion', 'cantidad de romance']].to_numpy()\n",
    "\n",
    "#Obten la lista de recomendaciones\n",
    "recomendaciones = recomiendamePeliculas(df_peliculas['Nombre'],x, caracteristicaPelicula, centroides)\n",
    "\n",
    "#E imprime lo que hallaste!\n",
    "print(\"Porque viste \"+peliculaElegida['Nombre']+\" te recomendamos ...\")\n",
    "print(recomendaciones.head())"
   ]
  },
  {
   "cell_type": "markdown",
   "metadata": {},
   "source": [
    "### Reto para Recomendaciones de Spotify"
   ]
  },
  {
   "cell_type": "code",
   "execution_count": 55,
   "metadata": {},
   "outputs": [
    {
     "data": {
      "text/html": [
       "<div>\n",
       "<style scoped>\n",
       "    .dataframe tbody tr th:only-of-type {\n",
       "        vertical-align: middle;\n",
       "    }\n",
       "\n",
       "    .dataframe tbody tr th {\n",
       "        vertical-align: top;\n",
       "    }\n",
       "\n",
       "    .dataframe thead th {\n",
       "        text-align: right;\n",
       "    }\n",
       "</style>\n",
       "<table border=\"1\" class=\"dataframe\">\n",
       "  <thead>\n",
       "    <tr style=\"text-align: right;\">\n",
       "      <th></th>\n",
       "      <th>artists</th>\n",
       "      <th>acousticness</th>\n",
       "      <th>danceability</th>\n",
       "      <th>duration_ms</th>\n",
       "      <th>energy</th>\n",
       "      <th>instrumentalness</th>\n",
       "      <th>liveness</th>\n",
       "      <th>loudness</th>\n",
       "      <th>speechiness</th>\n",
       "      <th>tempo</th>\n",
       "      <th>valence</th>\n",
       "      <th>popularity</th>\n",
       "    </tr>\n",
       "  </thead>\n",
       "  <tbody>\n",
       "    <tr>\n",
       "      <td>0</td>\n",
       "      <td>5 Seconds of Summer</td>\n",
       "      <td>0.043567</td>\n",
       "      <td>0.547308</td>\n",
       "      <td>195593.0769</td>\n",
       "      <td>0.804585</td>\n",
       "      <td>0.000016</td>\n",
       "      <td>0.181711</td>\n",
       "      <td>-4.599892</td>\n",
       "      <td>0.104403</td>\n",
       "      <td>141.883923</td>\n",
       "      <td>0.520938</td>\n",
       "      <td>61.015385</td>\n",
       "    </tr>\n",
       "    <tr>\n",
       "      <td>1</td>\n",
       "      <td>50 Cent</td>\n",
       "      <td>0.122386</td>\n",
       "      <td>0.695039</td>\n",
       "      <td>234964.0899</td>\n",
       "      <td>0.762388</td>\n",
       "      <td>0.000548</td>\n",
       "      <td>0.198361</td>\n",
       "      <td>-4.149427</td>\n",
       "      <td>0.259516</td>\n",
       "      <td>105.929427</td>\n",
       "      <td>0.589770</td>\n",
       "      <td>52.342697</td>\n",
       "    </tr>\n",
       "    <tr>\n",
       "      <td>2</td>\n",
       "      <td>AC/DC</td>\n",
       "      <td>0.027054</td>\n",
       "      <td>0.476390</td>\n",
       "      <td>258998.6163</td>\n",
       "      <td>0.847727</td>\n",
       "      <td>0.210036</td>\n",
       "      <td>0.280974</td>\n",
       "      <td>-4.818866</td>\n",
       "      <td>0.069395</td>\n",
       "      <td>128.038802</td>\n",
       "      <td>0.508220</td>\n",
       "      <td>51.401163</td>\n",
       "    </tr>\n",
       "    <tr>\n",
       "      <td>3</td>\n",
       "      <td>ACOT</td>\n",
       "      <td>0.000319</td>\n",
       "      <td>0.730000</td>\n",
       "      <td>169912.0000</td>\n",
       "      <td>0.567000</td>\n",
       "      <td>0.000009</td>\n",
       "      <td>0.105000</td>\n",
       "      <td>-8.085000</td>\n",
       "      <td>0.058700</td>\n",
       "      <td>119.997000</td>\n",
       "      <td>0.171000</td>\n",
       "      <td>62.000000</td>\n",
       "    </tr>\n",
       "    <tr>\n",
       "      <td>4</td>\n",
       "      <td>AFI</td>\n",
       "      <td>0.006557</td>\n",
       "      <td>0.390139</td>\n",
       "      <td>187259.2222</td>\n",
       "      <td>0.905722</td>\n",
       "      <td>0.031634</td>\n",
       "      <td>0.222553</td>\n",
       "      <td>-5.111389</td>\n",
       "      <td>0.087367</td>\n",
       "      <td>127.025750</td>\n",
       "      <td>0.444339</td>\n",
       "      <td>42.222222</td>\n",
       "    </tr>\n",
       "  </tbody>\n",
       "</table>\n",
       "</div>"
      ],
      "text/plain": [
       "               artists  acousticness  danceability  duration_ms    energy  \\\n",
       "0  5 Seconds of Summer      0.043567      0.547308  195593.0769  0.804585   \n",
       "1              50 Cent      0.122386      0.695039  234964.0899  0.762388   \n",
       "2                AC/DC      0.027054      0.476390  258998.6163  0.847727   \n",
       "3                 ACOT      0.000319      0.730000  169912.0000  0.567000   \n",
       "4                  AFI      0.006557      0.390139  187259.2222  0.905722   \n",
       "\n",
       "   instrumentalness  liveness  loudness  speechiness       tempo   valence  \\\n",
       "0          0.000016  0.181711 -4.599892     0.104403  141.883923  0.520938   \n",
       "1          0.000548  0.198361 -4.149427     0.259516  105.929427  0.589770   \n",
       "2          0.210036  0.280974 -4.818866     0.069395  128.038802  0.508220   \n",
       "3          0.000009  0.105000 -8.085000     0.058700  119.997000  0.171000   \n",
       "4          0.031634  0.222553 -5.111389     0.087367  127.025750  0.444339   \n",
       "\n",
       "   popularity  \n",
       "0   61.015385  \n",
       "1   52.342697  \n",
       "2   51.401163  \n",
       "3   62.000000  \n",
       "4   42.222222  "
      ]
     },
     "execution_count": 55,
     "metadata": {},
     "output_type": "execute_result"
    }
   ],
   "source": [
    "# Lectura del .csv\n",
    "artistas = pd.read_csv('data_by_artist_o.csv')\n",
    "artistas.head()"
   ]
  },
  {
   "cell_type": "code",
   "execution_count": 56,
   "metadata": {},
   "outputs": [
    {
     "data": {
      "text/html": [
       "<div>\n",
       "<style scoped>\n",
       "    .dataframe tbody tr th:only-of-type {\n",
       "        vertical-align: middle;\n",
       "    }\n",
       "\n",
       "    .dataframe tbody tr th {\n",
       "        vertical-align: top;\n",
       "    }\n",
       "\n",
       "    .dataframe thead th {\n",
       "        text-align: right;\n",
       "    }\n",
       "</style>\n",
       "<table border=\"1\" class=\"dataframe\">\n",
       "  <thead>\n",
       "    <tr style=\"text-align: right;\">\n",
       "      <th></th>\n",
       "      <th>artists</th>\n",
       "      <th>acousticness</th>\n",
       "      <th>danceability</th>\n",
       "      <th>duration_ms</th>\n",
       "      <th>energy</th>\n",
       "      <th>instrumentalness</th>\n",
       "      <th>liveness</th>\n",
       "      <th>loudness</th>\n",
       "      <th>speechiness</th>\n",
       "      <th>tempo</th>\n",
       "      <th>valence</th>\n",
       "      <th>popularity</th>\n",
       "    </tr>\n",
       "  </thead>\n",
       "  <tbody>\n",
       "    <tr>\n",
       "      <td>0</td>\n",
       "      <td>5 Seconds of Summer</td>\n",
       "      <td>0.043567</td>\n",
       "      <td>0.547308</td>\n",
       "      <td>195593.0769</td>\n",
       "      <td>0.804585</td>\n",
       "      <td>0.000016</td>\n",
       "      <td>0.181711</td>\n",
       "      <td>-4.599892</td>\n",
       "      <td>0.104403</td>\n",
       "      <td>141.883923</td>\n",
       "      <td>0.520938</td>\n",
       "      <td>61.0</td>\n",
       "    </tr>\n",
       "    <tr>\n",
       "      <td>1</td>\n",
       "      <td>50 Cent</td>\n",
       "      <td>0.122386</td>\n",
       "      <td>0.695039</td>\n",
       "      <td>234964.0899</td>\n",
       "      <td>0.762388</td>\n",
       "      <td>0.000548</td>\n",
       "      <td>0.198361</td>\n",
       "      <td>-4.149427</td>\n",
       "      <td>0.259516</td>\n",
       "      <td>105.929427</td>\n",
       "      <td>0.589770</td>\n",
       "      <td>52.0</td>\n",
       "    </tr>\n",
       "    <tr>\n",
       "      <td>2</td>\n",
       "      <td>AC/DC</td>\n",
       "      <td>0.027054</td>\n",
       "      <td>0.476390</td>\n",
       "      <td>258998.6163</td>\n",
       "      <td>0.847727</td>\n",
       "      <td>0.210036</td>\n",
       "      <td>0.280974</td>\n",
       "      <td>-4.818866</td>\n",
       "      <td>0.069395</td>\n",
       "      <td>128.038802</td>\n",
       "      <td>0.508220</td>\n",
       "      <td>51.0</td>\n",
       "    </tr>\n",
       "    <tr>\n",
       "      <td>3</td>\n",
       "      <td>ACOT</td>\n",
       "      <td>0.000319</td>\n",
       "      <td>0.730000</td>\n",
       "      <td>169912.0000</td>\n",
       "      <td>0.567000</td>\n",
       "      <td>0.000009</td>\n",
       "      <td>0.105000</td>\n",
       "      <td>-8.085000</td>\n",
       "      <td>0.058700</td>\n",
       "      <td>119.997000</td>\n",
       "      <td>0.171000</td>\n",
       "      <td>62.0</td>\n",
       "    </tr>\n",
       "    <tr>\n",
       "      <td>4</td>\n",
       "      <td>AFI</td>\n",
       "      <td>0.006557</td>\n",
       "      <td>0.390139</td>\n",
       "      <td>187259.2222</td>\n",
       "      <td>0.905722</td>\n",
       "      <td>0.031634</td>\n",
       "      <td>0.222553</td>\n",
       "      <td>-5.111389</td>\n",
       "      <td>0.087367</td>\n",
       "      <td>127.025750</td>\n",
       "      <td>0.444339</td>\n",
       "      <td>42.0</td>\n",
       "    </tr>\n",
       "  </tbody>\n",
       "</table>\n",
       "</div>"
      ],
      "text/plain": [
       "               artists  acousticness  danceability  duration_ms    energy  \\\n",
       "0  5 Seconds of Summer      0.043567      0.547308  195593.0769  0.804585   \n",
       "1              50 Cent      0.122386      0.695039  234964.0899  0.762388   \n",
       "2                AC/DC      0.027054      0.476390  258998.6163  0.847727   \n",
       "3                 ACOT      0.000319      0.730000  169912.0000  0.567000   \n",
       "4                  AFI      0.006557      0.390139  187259.2222  0.905722   \n",
       "\n",
       "   instrumentalness  liveness  loudness  speechiness       tempo   valence  \\\n",
       "0          0.000016  0.181711 -4.599892     0.104403  141.883923  0.520938   \n",
       "1          0.000548  0.198361 -4.149427     0.259516  105.929427  0.589770   \n",
       "2          0.210036  0.280974 -4.818866     0.069395  128.038802  0.508220   \n",
       "3          0.000009  0.105000 -8.085000     0.058700  119.997000  0.171000   \n",
       "4          0.031634  0.222553 -5.111389     0.087367  127.025750  0.444339   \n",
       "\n",
       "   popularity  \n",
       "0        61.0  \n",
       "1        52.0  \n",
       "2        51.0  \n",
       "3        62.0  \n",
       "4        42.0  "
      ]
     },
     "execution_count": 56,
     "metadata": {},
     "output_type": "execute_result"
    }
   ],
   "source": [
    "artistas['popularity'] = artistas['popularity'].round()\n",
    "artistas.head()"
   ]
  },
  {
   "cell_type": "code",
   "execution_count": 57,
   "metadata": {},
   "outputs": [
    {
     "name": "stdout",
     "output_type": "stream",
     "text": [
      "count    27904.000000\n",
      "mean        34.175459\n",
      "std         22.260763\n",
      "min          0.000000\n",
      "25%         12.000000\n",
      "50%         39.000000\n",
      "75%         51.000000\n",
      "max         93.000000\n",
      "Name: popularity, dtype: float64\n"
     ]
    },
    {
     "data": {
      "text/html": [
       "<div>\n",
       "<style scoped>\n",
       "    .dataframe tbody tr th:only-of-type {\n",
       "        vertical-align: middle;\n",
       "    }\n",
       "\n",
       "    .dataframe tbody tr th {\n",
       "        vertical-align: top;\n",
       "    }\n",
       "\n",
       "    .dataframe thead th {\n",
       "        text-align: right;\n",
       "    }\n",
       "</style>\n",
       "<table border=\"1\" class=\"dataframe\">\n",
       "  <thead>\n",
       "    <tr style=\"text-align: right;\">\n",
       "      <th></th>\n",
       "      <th>artists</th>\n",
       "      <th>acousticness</th>\n",
       "      <th>danceability</th>\n",
       "      <th>duration_ms</th>\n",
       "      <th>energy</th>\n",
       "      <th>instrumentalness</th>\n",
       "      <th>liveness</th>\n",
       "      <th>loudness</th>\n",
       "      <th>speechiness</th>\n",
       "      <th>tempo</th>\n",
       "      <th>valence</th>\n",
       "      <th>popularity</th>\n",
       "      <th>popularidad_nom</th>\n",
       "    </tr>\n",
       "  </thead>\n",
       "  <tbody>\n",
       "    <tr>\n",
       "      <td>0</td>\n",
       "      <td>5 Seconds of Summer</td>\n",
       "      <td>0.043567</td>\n",
       "      <td>0.547308</td>\n",
       "      <td>195593.0769</td>\n",
       "      <td>0.804585</td>\n",
       "      <td>0.000016</td>\n",
       "      <td>0.181711</td>\n",
       "      <td>-4.599892</td>\n",
       "      <td>0.104403</td>\n",
       "      <td>141.883923</td>\n",
       "      <td>0.520938</td>\n",
       "      <td>61.0</td>\n",
       "      <td>4</td>\n",
       "    </tr>\n",
       "    <tr>\n",
       "      <td>1</td>\n",
       "      <td>50 Cent</td>\n",
       "      <td>0.122386</td>\n",
       "      <td>0.695039</td>\n",
       "      <td>234964.0899</td>\n",
       "      <td>0.762388</td>\n",
       "      <td>0.000548</td>\n",
       "      <td>0.198361</td>\n",
       "      <td>-4.149427</td>\n",
       "      <td>0.259516</td>\n",
       "      <td>105.929427</td>\n",
       "      <td>0.589770</td>\n",
       "      <td>52.0</td>\n",
       "      <td>3</td>\n",
       "    </tr>\n",
       "    <tr>\n",
       "      <td>2</td>\n",
       "      <td>AC/DC</td>\n",
       "      <td>0.027054</td>\n",
       "      <td>0.476390</td>\n",
       "      <td>258998.6163</td>\n",
       "      <td>0.847727</td>\n",
       "      <td>0.210036</td>\n",
       "      <td>0.280974</td>\n",
       "      <td>-4.818866</td>\n",
       "      <td>0.069395</td>\n",
       "      <td>128.038802</td>\n",
       "      <td>0.508220</td>\n",
       "      <td>51.0</td>\n",
       "      <td>3</td>\n",
       "    </tr>\n",
       "    <tr>\n",
       "      <td>3</td>\n",
       "      <td>ACOT</td>\n",
       "      <td>0.000319</td>\n",
       "      <td>0.730000</td>\n",
       "      <td>169912.0000</td>\n",
       "      <td>0.567000</td>\n",
       "      <td>0.000009</td>\n",
       "      <td>0.105000</td>\n",
       "      <td>-8.085000</td>\n",
       "      <td>0.058700</td>\n",
       "      <td>119.997000</td>\n",
       "      <td>0.171000</td>\n",
       "      <td>62.0</td>\n",
       "      <td>4</td>\n",
       "    </tr>\n",
       "    <tr>\n",
       "      <td>4</td>\n",
       "      <td>AFI</td>\n",
       "      <td>0.006557</td>\n",
       "      <td>0.390139</td>\n",
       "      <td>187259.2222</td>\n",
       "      <td>0.905722</td>\n",
       "      <td>0.031634</td>\n",
       "      <td>0.222553</td>\n",
       "      <td>-5.111389</td>\n",
       "      <td>0.087367</td>\n",
       "      <td>127.025750</td>\n",
       "      <td>0.444339</td>\n",
       "      <td>42.0</td>\n",
       "      <td>3</td>\n",
       "    </tr>\n",
       "  </tbody>\n",
       "</table>\n",
       "</div>"
      ],
      "text/plain": [
       "               artists  acousticness  danceability  duration_ms    energy  \\\n",
       "0  5 Seconds of Summer      0.043567      0.547308  195593.0769  0.804585   \n",
       "1              50 Cent      0.122386      0.695039  234964.0899  0.762388   \n",
       "2                AC/DC      0.027054      0.476390  258998.6163  0.847727   \n",
       "3                 ACOT      0.000319      0.730000  169912.0000  0.567000   \n",
       "4                  AFI      0.006557      0.390139  187259.2222  0.905722   \n",
       "\n",
       "   instrumentalness  liveness  loudness  speechiness       tempo   valence  \\\n",
       "0          0.000016  0.181711 -4.599892     0.104403  141.883923  0.520938   \n",
       "1          0.000548  0.198361 -4.149427     0.259516  105.929427  0.589770   \n",
       "2          0.210036  0.280974 -4.818866     0.069395  128.038802  0.508220   \n",
       "3          0.000009  0.105000 -8.085000     0.058700  119.997000  0.171000   \n",
       "4          0.031634  0.222553 -5.111389     0.087367  127.025750  0.444339   \n",
       "\n",
       "   popularity  popularidad_nom  \n",
       "0        61.0                4  \n",
       "1        52.0                3  \n",
       "2        51.0                3  \n",
       "3        62.0                4  \n",
       "4        42.0                3  "
      ]
     },
     "execution_count": 57,
     "metadata": {},
     "output_type": "execute_result"
    }
   ],
   "source": [
    "print(artistas['popularity'].describe())\n",
    "# tenemos entonces una popularidad en un rango de 0 a 100 #12\n",
    "# siendo así podemos asignar por rangas una variable de tipo discreta (cualitativa)\n",
    "\n",
    "#Propuesta de rangos.\n",
    "muy_popular  = [81,100] #1\n",
    "popular      = [61,80]  #2\n",
    "normal       = [41,60]  #3\n",
    "poco_popular = [21,40]  #4\n",
    "nada_popular = [0,20]   #5\n",
    "\n",
    "criteria = [artistas['popularity'].between(0,20), artistas['popularity'].between(21, 40), \n",
    "            artistas['popularity'].between(41,60),artistas['popularity'].between(61,80),\n",
    "            artistas['popularity'].between(81,100)]\n",
    "values = [1, 2, 3,4,5]\n",
    "\n",
    "artistas['popularidad_nom'] = np.select(criteria, values, 0)\n",
    "\n",
    "#artistas['popularidad_nom'] = artistas['popularity'].map({range(0,20):1,range(21,40):2,range(41,60):3,range(61,80):4,range(81,100):5})\n",
    "artistas.head()"
   ]
  },
  {
   "cell_type": "code",
   "execution_count": null,
   "metadata": {},
   "outputs": [],
   "source": []
  },
  {
   "cell_type": "code",
   "execution_count": 58,
   "metadata": {},
   "outputs": [
    {
     "data": {
      "text/plain": [
       "array([0.        , 0.16326531, 0.32653061, 0.48979592, 0.65306122,\n",
       "       0.81632653, 0.97959184, 1.14285714, 1.30612245, 1.46938776,\n",
       "       1.63265306, 1.79591837, 1.95918367, 2.12244898, 2.28571429,\n",
       "       2.44897959, 2.6122449 , 2.7755102 , 2.93877551, 3.10204082,\n",
       "       3.26530612, 3.42857143, 3.59183673, 3.75510204, 3.91836735,\n",
       "       4.08163265, 4.24489796, 4.40816327, 4.57142857, 4.73469388,\n",
       "       4.89795918, 5.06122449, 5.2244898 , 5.3877551 , 5.55102041,\n",
       "       5.71428571, 5.87755102, 6.04081633, 6.20408163, 6.36734694,\n",
       "       6.53061224, 6.69387755, 6.85714286, 7.02040816, 7.18367347,\n",
       "       7.34693878, 7.51020408, 7.67346939, 7.83673469, 8.        ])"
      ]
     },
     "execution_count": 58,
     "metadata": {},
     "output_type": "execute_result"
    }
   ],
   "source": [
    "np.linspace(0,8)"
   ]
  },
  {
   "cell_type": "code",
   "execution_count": 59,
   "metadata": {},
   "outputs": [
    {
     "data": {
      "text/html": [
       "<div>\n",
       "<style scoped>\n",
       "    .dataframe tbody tr th:only-of-type {\n",
       "        vertical-align: middle;\n",
       "    }\n",
       "\n",
       "    .dataframe tbody tr th {\n",
       "        vertical-align: top;\n",
       "    }\n",
       "\n",
       "    .dataframe thead th {\n",
       "        text-align: right;\n",
       "    }\n",
       "</style>\n",
       "<table border=\"1\" class=\"dataframe\">\n",
       "  <thead>\n",
       "    <tr style=\"text-align: right;\">\n",
       "      <th></th>\n",
       "      <th>acousticness</th>\n",
       "      <th>danceability</th>\n",
       "      <th>duration_ms</th>\n",
       "      <th>energy</th>\n",
       "      <th>instrumentalness</th>\n",
       "      <th>liveness</th>\n",
       "      <th>loudness</th>\n",
       "      <th>speechiness</th>\n",
       "      <th>tempo</th>\n",
       "      <th>valence</th>\n",
       "      <th>popularity</th>\n",
       "      <th>popularidad_nom</th>\n",
       "    </tr>\n",
       "  </thead>\n",
       "  <tbody>\n",
       "    <tr>\n",
       "      <td>count</td>\n",
       "      <td>27904.000000</td>\n",
       "      <td>27904.000000</td>\n",
       "      <td>2.790400e+04</td>\n",
       "      <td>27904.000000</td>\n",
       "      <td>27904.000000</td>\n",
       "      <td>27904.000000</td>\n",
       "      <td>27904.000000</td>\n",
       "      <td>27904.000000</td>\n",
       "      <td>27904.000000</td>\n",
       "      <td>27904.000000</td>\n",
       "      <td>27904.000000</td>\n",
       "      <td>27904.000000</td>\n",
       "    </tr>\n",
       "    <tr>\n",
       "      <td>mean</td>\n",
       "      <td>0.496479</td>\n",
       "      <td>0.545725</td>\n",
       "      <td>2.395229e+05</td>\n",
       "      <td>0.497910</td>\n",
       "      <td>0.175348</td>\n",
       "      <td>0.202326</td>\n",
       "      <td>-11.156041</td>\n",
       "      <td>0.093758</td>\n",
       "      <td>115.846475</td>\n",
       "      <td>0.511301</td>\n",
       "      <td>34.175459</td>\n",
       "      <td>2.289098</td>\n",
       "    </tr>\n",
       "    <tr>\n",
       "      <td>std</td>\n",
       "      <td>0.370088</td>\n",
       "      <td>0.176981</td>\n",
       "      <td>1.219339e+05</td>\n",
       "      <td>0.255476</td>\n",
       "      <td>0.298943</td>\n",
       "      <td>0.141083</td>\n",
       "      <td>5.793669</td>\n",
       "      <td>0.111333</td>\n",
       "      <td>25.010315</td>\n",
       "      <td>0.244737</td>\n",
       "      <td>22.260763</td>\n",
       "      <td>0.999029</td>\n",
       "    </tr>\n",
       "    <tr>\n",
       "      <td>min</td>\n",
       "      <td>0.000000</td>\n",
       "      <td>0.000000</td>\n",
       "      <td>1.879550e+04</td>\n",
       "      <td>0.000000</td>\n",
       "      <td>0.000000</td>\n",
       "      <td>0.000000</td>\n",
       "      <td>-60.000000</td>\n",
       "      <td>0.000000</td>\n",
       "      <td>0.000000</td>\n",
       "      <td>0.000000</td>\n",
       "      <td>0.000000</td>\n",
       "      <td>1.000000</td>\n",
       "    </tr>\n",
       "    <tr>\n",
       "      <td>25%</td>\n",
       "      <td>0.121500</td>\n",
       "      <td>0.430000</td>\n",
       "      <td>1.824638e+05</td>\n",
       "      <td>0.283000</td>\n",
       "      <td>0.000004</td>\n",
       "      <td>0.110023</td>\n",
       "      <td>-14.010000</td>\n",
       "      <td>0.039200</td>\n",
       "      <td>99.335877</td>\n",
       "      <td>0.327000</td>\n",
       "      <td>12.000000</td>\n",
       "      <td>1.000000</td>\n",
       "    </tr>\n",
       "    <tr>\n",
       "      <td>50%</td>\n",
       "      <td>0.475000</td>\n",
       "      <td>0.556298</td>\n",
       "      <td>2.190482e+05</td>\n",
       "      <td>0.506000</td>\n",
       "      <td>0.001900</td>\n",
       "      <td>0.161000</td>\n",
       "      <td>-10.082900</td>\n",
       "      <td>0.052163</td>\n",
       "      <td>115.339267</td>\n",
       "      <td>0.522000</td>\n",
       "      <td>39.000000</td>\n",
       "      <td>2.000000</td>\n",
       "    </tr>\n",
       "    <tr>\n",
       "      <td>75%</td>\n",
       "      <td>0.893000</td>\n",
       "      <td>0.675000</td>\n",
       "      <td>2.689488e+05</td>\n",
       "      <td>0.704000</td>\n",
       "      <td>0.217141</td>\n",
       "      <td>0.247000</td>\n",
       "      <td>-6.881122</td>\n",
       "      <td>0.095200</td>\n",
       "      <td>129.842250</td>\n",
       "      <td>0.701585</td>\n",
       "      <td>51.000000</td>\n",
       "      <td>3.000000</td>\n",
       "    </tr>\n",
       "    <tr>\n",
       "      <td>max</td>\n",
       "      <td>0.996000</td>\n",
       "      <td>0.986000</td>\n",
       "      <td>5.403500e+06</td>\n",
       "      <td>1.000000</td>\n",
       "      <td>1.000000</td>\n",
       "      <td>0.991000</td>\n",
       "      <td>1.342000</td>\n",
       "      <td>0.964000</td>\n",
       "      <td>217.743000</td>\n",
       "      <td>0.991000</td>\n",
       "      <td>93.000000</td>\n",
       "      <td>5.000000</td>\n",
       "    </tr>\n",
       "  </tbody>\n",
       "</table>\n",
       "</div>"
      ],
      "text/plain": [
       "       acousticness  danceability   duration_ms        energy  \\\n",
       "count  27904.000000  27904.000000  2.790400e+04  27904.000000   \n",
       "mean       0.496479      0.545725  2.395229e+05      0.497910   \n",
       "std        0.370088      0.176981  1.219339e+05      0.255476   \n",
       "min        0.000000      0.000000  1.879550e+04      0.000000   \n",
       "25%        0.121500      0.430000  1.824638e+05      0.283000   \n",
       "50%        0.475000      0.556298  2.190482e+05      0.506000   \n",
       "75%        0.893000      0.675000  2.689488e+05      0.704000   \n",
       "max        0.996000      0.986000  5.403500e+06      1.000000   \n",
       "\n",
       "       instrumentalness      liveness      loudness   speechiness  \\\n",
       "count      27904.000000  27904.000000  27904.000000  27904.000000   \n",
       "mean           0.175348      0.202326    -11.156041      0.093758   \n",
       "std            0.298943      0.141083      5.793669      0.111333   \n",
       "min            0.000000      0.000000    -60.000000      0.000000   \n",
       "25%            0.000004      0.110023    -14.010000      0.039200   \n",
       "50%            0.001900      0.161000    -10.082900      0.052163   \n",
       "75%            0.217141      0.247000     -6.881122      0.095200   \n",
       "max            1.000000      0.991000      1.342000      0.964000   \n",
       "\n",
       "              tempo       valence    popularity  popularidad_nom  \n",
       "count  27904.000000  27904.000000  27904.000000     27904.000000  \n",
       "mean     115.846475      0.511301     34.175459         2.289098  \n",
       "std       25.010315      0.244737     22.260763         0.999029  \n",
       "min        0.000000      0.000000      0.000000         1.000000  \n",
       "25%       99.335877      0.327000     12.000000         1.000000  \n",
       "50%      115.339267      0.522000     39.000000         2.000000  \n",
       "75%      129.842250      0.701585     51.000000         3.000000  \n",
       "max      217.743000      0.991000     93.000000         5.000000  "
      ]
     },
     "execution_count": 59,
     "metadata": {},
     "output_type": "execute_result"
    }
   ],
   "source": [
    "artistas.describe()"
   ]
  },
  {
   "cell_type": "code",
   "execution_count": 60,
   "metadata": {},
   "outputs": [
    {
     "name": "stdout",
     "output_type": "stream",
     "text": [
      "<class 'pandas.core.frame.DataFrame'>\n",
      "RangeIndex: 27904 entries, 0 to 27903\n",
      "Data columns (total 13 columns):\n",
      "artists             27904 non-null object\n",
      "acousticness        27904 non-null float64\n",
      "danceability        27904 non-null float64\n",
      "duration_ms         27904 non-null float64\n",
      "energy              27904 non-null float64\n",
      "instrumentalness    27904 non-null float64\n",
      "liveness            27904 non-null float64\n",
      "loudness            27904 non-null float64\n",
      "speechiness         27904 non-null float64\n",
      "tempo               27904 non-null float64\n",
      "valence             27904 non-null float64\n",
      "popularity          27904 non-null float64\n",
      "popularidad_nom     27904 non-null int64\n",
      "dtypes: float64(11), int64(1), object(1)\n",
      "memory usage: 2.8+ MB\n"
     ]
    }
   ],
   "source": [
    "artistas.info()"
   ]
  },
  {
   "cell_type": "code",
   "execution_count": 61,
   "metadata": {},
   "outputs": [
    {
     "data": {
      "text/plain": [
       "27904"
      ]
     },
     "execution_count": 61,
     "metadata": {},
     "output_type": "execute_result"
    }
   ],
   "source": [
    "len(artistas)"
   ]
  },
  {
   "cell_type": "markdown",
   "metadata": {},
   "source": [
    "### Division de los datos.\n",
    "\n"
   ]
  },
  {
   "cell_type": "code",
   "execution_count": 62,
   "metadata": {},
   "outputs": [],
   "source": [
    "x = artistas[['acousticness', 'danceability', 'duration_ms', 'energy',\n",
    "       'instrumentalness', 'liveness', 'loudness', 'speechiness', 'tempo',\n",
    "       'valence']].to_numpy()\n",
    "y = artistas['popularidad_nom'].to_numpy()\n",
    "# Otra alternativa: y = df_peliculas[\"tipo\"].get_dummies()\n",
    "\n",
    "# x_train, x_test, y_train, y_test = train_test_split(x,y,test_size=0.4)"
   ]
  },
  {
   "cell_type": "markdown",
   "metadata": {},
   "source": [
    "### Implementación de K-Means"
   ]
  },
  {
   "cell_type": "code",
   "execution_count": 63,
   "metadata": {},
   "outputs": [
    {
     "name": "stdout",
     "output_type": "stream",
     "text": [
      "[[ 3.69401029e-01  5.66212110e-01  2.35045802e+05  5.71253271e-01\n",
      "   1.03761850e-01  1.90946487e-01 -9.56115705e+00  8.73707295e-02\n",
      "   1.17826870e+02  5.09539266e-01]\n",
      " [ 6.34188787e-01  4.02875483e-01  5.44292650e+05  3.60771946e-01\n",
      "   4.24906388e-01  2.25898940e-01 -1.60878257e+01  9.29825101e-02\n",
      "   1.08648437e+02  2.86973627e-01]\n",
      " [ 7.73022689e-01  4.44945556e-01  1.52956740e+06  2.73181356e-01\n",
      "   1.46648151e-01  2.06101000e-01 -1.74933456e+01  3.21615222e-01\n",
      "   9.20055378e+01  2.90092611e-01]\n",
      " [ 4.60137626e-01  5.15411737e-01  3.85052833e+05  4.91829964e-01\n",
      "   3.39268812e-01  1.96253107e-01 -1.26543602e+01  8.07090102e-02\n",
      "   1.14028220e+02  4.15639474e-01]\n",
      " [ 7.14772970e-01  4.98760832e-01  7.58593591e+04  3.28749754e-01\n",
      "   3.22577541e-01  2.48676449e-01 -1.63932797e+01  1.55178882e-01\n",
      "   1.05945087e+02  4.82348543e-01]\n",
      " [ 9.53500000e-01  1.16350000e-01  4.19514600e+06  5.37100000e-01\n",
      "   7.81000000e-01  2.11500000e-01 -2.06705000e+01  9.31000000e-02\n",
      "   1.08846000e+02  2.73500000e-04]\n",
      " [ 6.19295895e-01  5.45262179e-01  1.86321244e+05  4.48713380e-01\n",
      "   1.83043831e-01  2.04108197e-01 -1.10662119e+01  8.76779339e-02\n",
      "   1.15365050e+02  5.63279092e-01]\n",
      " [ 8.45938726e-01  3.10105882e-01  1.13694362e+06  2.78097549e-01\n",
      "   4.30908790e-01  2.04886520e-01 -1.76594657e+01  1.82618628e-01\n",
      "   9.68279338e+01  1.92098284e-01]\n",
      " [ 3.81802845e-01  5.56873464e-01  2.93504772e+05  5.49581308e-01\n",
      "   1.62611963e-01  2.00609612e-01 -1.05836197e+01  9.54694647e-02\n",
      "   1.16578627e+02  4.84676918e-01]\n",
      " [ 6.41473939e-01  5.43249000e-01  1.28736315e+05  4.29431641e-01\n",
      "   1.89084566e-01  2.18502627e-01 -1.29908396e+01  1.21759075e-01\n",
      "   1.15030260e+02  5.52215443e-01]\n",
      " [ 7.82307481e-01  3.39909277e-01  6.65557324e+05  2.80519805e-01\n",
      "   4.65651084e-01  1.99920887e-01 -1.73909666e+01  1.08713768e-01\n",
      "   1.04988435e+02  2.38886466e-01]\n",
      " [ 5.41452952e-01  4.70501070e-01  4.52515000e+05  4.28530756e-01\n",
      "   4.17735526e-01  2.08374243e-01 -1.43242671e+01  8.35508755e-02\n",
      "   1.13638583e+02  3.62555999e-01]\n",
      " [ 8.69266667e-01  3.13206667e-01  2.13189373e+06  3.21438000e-01\n",
      "   4.33601716e-01  2.34056667e-01 -1.81918000e+01  2.68793333e-01\n",
      "   9.36207000e+01  1.35364667e-01]\n",
      " [ 6.46793690e-01  5.47765137e-01  1.61006539e+05  4.32440336e-01\n",
      "   1.77555029e-01  2.10526172e-01 -1.19856380e+01  8.83196119e-02\n",
      "   1.15576718e+02  5.76488260e-01]\n",
      " [ 3.55975363e-01  5.74816810e-01  2.62235989e+05  5.70733136e-01\n",
      "   1.16629742e-01  1.94859099e-01 -9.97579287e+00  9.82805034e-02\n",
      "   1.17186664e+02  5.05066594e-01]\n",
      " [ 7.93901445e-01  3.43990886e-01  8.60592942e+05  2.44321045e-01\n",
      "   4.57953255e-01  2.07036921e-01 -1.82296747e+01  1.19077780e-01\n",
      "   1.01526998e+02  2.34282108e-01]\n",
      " [ 8.52333333e-01  3.71800000e-01  3.06828000e+06  2.76000000e-01\n",
      "   3.20666667e-01  1.27333333e-01 -2.47236667e+01  5.84100000e-01\n",
      "   7.71853333e+01  3.66233333e-01]\n",
      " [ 1.11000000e-01  0.00000000e+00  5.40350000e+06  9.90000000e-05\n",
      "   3.92000000e-01  1.37000000e-01 -2.16690000e+01  0.00000000e+00\n",
      "   0.00000000e+00  0.00000000e+00]\n",
      " [ 4.50350684e-01  5.55676560e-01  2.09866807e+05  5.31902922e-01\n",
      "   1.26762631e-01  1.98264323e-01 -9.95207321e+00  8.89335853e-02\n",
      "   1.17289475e+02  5.20023438e-01]\n",
      " [ 4.29459611e-01  5.23811447e-01  3.33015221e+05  5.06431316e-01\n",
      "   2.35826114e-01  1.99394263e-01 -1.19685845e+01  8.73950808e-02\n",
      "   1.16144285e+02  4.47646812e-01]]\n"
     ]
    }
   ],
   "source": [
    "modelo_kmeans = KMeans(n_clusters = 20).fit(x)\n",
    "centroides = modelo_kmeans.cluster_centers_\n",
    "print(centroides)"
   ]
  },
  {
   "cell_type": "code",
   "execution_count": 64,
   "metadata": {},
   "outputs": [],
   "source": [
    "def recomiendameArtista(lista_artistas,datos_artista,artista_Ejemplo,centroides):\n",
    "    #Vamos a buscar el centroide mas cercano (con MLUtilities ;) )\n",
    "    clasificacionDeseada = centroideCercano(artista_Ejemplo, centroides)\n",
    "    \n",
    "    #Luego, vamos a clasificar todas las peliculas por centroides.\n",
    "    clasificaciones = clasificarPorCentroides(datos_artista, centroides)\n",
    "    \n",
    "    #Finalmente, sacaremos los indices que hacen match entre clasificaciones.\n",
    "    indices = np.where(clasificaciones == clasificacionDeseada)[0]\n",
    "    \n",
    "    #Y regresamos la lista de peliculas.\n",
    "    return lista_artistas[indices]"
   ]
  },
  {
   "cell_type": "code",
   "execution_count": 65,
   "metadata": {},
   "outputs": [
    {
     "data": {
      "text/plain": [
       "Index(['artists', 'acousticness', 'danceability', 'duration_ms', 'energy',\n",
       "       'instrumentalness', 'liveness', 'loudness', 'speechiness', 'tempo',\n",
       "       'valence', 'popularity', 'popularidad_nom'],\n",
       "      dtype='object')"
      ]
     },
     "execution_count": 65,
     "metadata": {},
     "output_type": "execute_result"
    }
   ],
   "source": [
    "artistas.columns"
   ]
  },
  {
   "cell_type": "code",
   "execution_count": 73,
   "metadata": {},
   "outputs": [
    {
     "name": "stdout",
     "output_type": "stream",
     "text": [
      "Porque escuchaste The Beatles te recomendamos ...\n",
      "0     5 Seconds of Summer\n",
      "4                     AFI\n",
      "21       Abbasuddin Ahmed\n",
      "31          Abdulial Mahi\n",
      "32             Abdülkerim\n",
      "Name: artists, dtype: object\n"
     ]
    }
   ],
   "source": [
    "#Sientete libre de cambiar este valor.\n",
    "indice_df = 24082\n",
    "\n",
    "#Extrae la película que deseas del dataframe.\n",
    "artista_elegido = artistas.iloc[indice_df]\n",
    "\n",
    "#Obten las características de la pelicula que elegiste.\n",
    "caracteristica_artista = artista_elegido[['acousticness', 'danceability', 'duration_ms', 'energy',\n",
    "       'instrumentalness', 'liveness', 'loudness', 'speechiness', 'tempo',\n",
    "       'valence']].to_numpy()\n",
    "\n",
    "#Obten la lista de recomendaciones\n",
    "recomendaciones = recomiendameArtista(artistas['artists'],x, caracteristica_artista, centroides)\n",
    "\n",
    "#E imprime lo que hallaste!\n",
    "print(\"Porque escuchaste \"+artista_elegido['artists']+\" te recomendamos ...\")\n",
    "print(recomendaciones.head())"
   ]
  },
  {
   "cell_type": "code",
   "execution_count": 72,
   "metadata": {},
   "outputs": [
    {
     "data": {
      "text/html": [
       "<div>\n",
       "<style scoped>\n",
       "    .dataframe tbody tr th:only-of-type {\n",
       "        vertical-align: middle;\n",
       "    }\n",
       "\n",
       "    .dataframe tbody tr th {\n",
       "        vertical-align: top;\n",
       "    }\n",
       "\n",
       "    .dataframe thead th {\n",
       "        text-align: right;\n",
       "    }\n",
       "</style>\n",
       "<table border=\"1\" class=\"dataframe\">\n",
       "  <thead>\n",
       "    <tr style=\"text-align: right;\">\n",
       "      <th></th>\n",
       "      <th>artists</th>\n",
       "      <th>acousticness</th>\n",
       "      <th>danceability</th>\n",
       "      <th>duration_ms</th>\n",
       "      <th>energy</th>\n",
       "      <th>instrumentalness</th>\n",
       "      <th>liveness</th>\n",
       "      <th>loudness</th>\n",
       "      <th>speechiness</th>\n",
       "      <th>tempo</th>\n",
       "      <th>valence</th>\n",
       "      <th>popularity</th>\n",
       "      <th>popularidad_nom</th>\n",
       "    </tr>\n",
       "  </thead>\n",
       "  <tbody>\n",
       "    <tr>\n",
       "      <td>24082</td>\n",
       "      <td>The Beatles</td>\n",
       "      <td>0.359534</td>\n",
       "      <td>0.522404</td>\n",
       "      <td>174591.257</td>\n",
       "      <td>0.546576</td>\n",
       "      <td>0.052255</td>\n",
       "      <td>0.221973</td>\n",
       "      <td>-9.687188</td>\n",
       "      <td>0.053337</td>\n",
       "      <td>121.252759</td>\n",
       "      <td>0.619537</td>\n",
       "      <td>47.0</td>\n",
       "      <td>3</td>\n",
       "    </tr>\n",
       "  </tbody>\n",
       "</table>\n",
       "</div>"
      ],
      "text/plain": [
       "           artists  acousticness  danceability  duration_ms    energy  \\\n",
       "24082  The Beatles      0.359534      0.522404   174591.257  0.546576   \n",
       "\n",
       "       instrumentalness  liveness  loudness  speechiness       tempo  \\\n",
       "24082          0.052255  0.221973 -9.687188     0.053337  121.252759   \n",
       "\n",
       "        valence  popularity  popularidad_nom  \n",
       "24082  0.619537        47.0                3  "
      ]
     },
     "execution_count": 72,
     "metadata": {},
     "output_type": "execute_result"
    }
   ],
   "source": [
    "artistas[artistas['artists'] == 'The Beatles']"
   ]
  },
  {
   "cell_type": "code",
   "execution_count": null,
   "metadata": {},
   "outputs": [],
   "source": []
  }
 ],
 "metadata": {
  "kernelspec": {
   "display_name": "Python 3",
   "language": "python",
   "name": "python3"
  },
  "language_info": {
   "codemirror_mode": {
    "name": "ipython",
    "version": 3
   },
   "file_extension": ".py",
   "mimetype": "text/x-python",
   "name": "python",
   "nbconvert_exporter": "python",
   "pygments_lexer": "ipython3",
   "version": "3.6.9"
  }
 },
 "nbformat": 4,
 "nbformat_minor": 4
}
